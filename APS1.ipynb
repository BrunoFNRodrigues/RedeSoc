{
 "cells": [
  {
   "cell_type": "markdown",
   "id": "52432d64",
   "metadata": {},
   "source": [
    "# APS1 - Redes Sociais"
   ]
  },
  {
   "cell_type": "markdown",
   "id": "cdc89b82",
   "metadata": {},
   "source": [
    "### Bruno Freitas do Nascimento Rodrigues e Nicolas Byung Kwan Cho"
   ]
  },
  {
   "cell_type": "markdown",
   "id": "57d02aca",
   "metadata": {},
   "source": [
    "O dataset escolhido baseia-se no jogo [Wikispeedia](https://dlab.epfl.ch/wikispeedia/play/). No jogo, começamos em determinado artigo da [Wikipedia](https://pt.wikipedia.org/wiki/Wikip%C3%A9dia:P%C3%A1gina_principal) e temos o objetivo de chegar em outro artigo destino apenas navegando entre os links disponíveis em cada página.\n",
    "\n",
    "O dataset apresenta dois arquivos tsv: um listando todos os artigos selecionados e outro definindo o direcionamento entre artigos."
   ]
  },
  {
   "cell_type": "markdown",
   "id": "faef07b6",
   "metadata": {},
   "source": [
    "## Importando bibliotecas e criando grafo"
   ]
  },
  {
   "cell_type": "code",
   "execution_count": 4,
   "id": "c9a72d0c",
   "metadata": {},
   "outputs": [],
   "source": [
    "import netpixi\n",
    "import csv\n",
    "import urllib.parse\n",
    "from netpixi.integration.gt import Graph"
   ]
  },
  {
   "cell_type": "markdown",
   "id": "8ee6ae1e",
   "metadata": {},
   "source": [
    "Como um link de um artigo direciona o jogador para outro artigo, mas não necessariamente o contrário, o grafo será dirigido"
   ]
  },
  {
   "cell_type": "code",
   "execution_count": 5,
   "id": "050ffb3c",
   "metadata": {},
   "outputs": [],
   "source": [
    "g = Graph(directed=True) # dirigido"
   ]
  },
  {
   "cell_type": "code",
   "execution_count": 6,
   "id": "f0e3c97c",
   "metadata": {},
   "outputs": [],
   "source": [
    "with open(\"articles.tsv\", 'r', encoding='utf-8') as file:\n",
    "    # leitura do tsv\n",
    "    tsv_file = csv.reader(file, delimiter=\"\\t\")\n",
    "    \n",
    "    # pular linhas iniciais\n",
    "    for i in range(12):\n",
    "        file, next(file)\n",
    "\n",
    "    # criar vértices\n",
    "    for line in tsv_file:\n",
    "        g.add_vertex(urllib.parse.unquote(line[0]))"
   ]
  },
  {
   "cell_type": "code",
   "execution_count": 7,
   "id": "bd2434d5",
   "metadata": {},
   "outputs": [
    {
     "name": "stdout",
     "output_type": "stream",
     "text": [
      "número de vértices de g: 4604\n"
     ]
    }
   ],
   "source": [
    "print('número de vértices de g:', g.num_vertices())"
   ]
  },
  {
   "cell_type": "code",
   "execution_count": 8,
   "id": "696b8619",
   "metadata": {},
   "outputs": [],
   "source": [
    "with open(\"links.tsv\", 'r', encoding='utf-8') as file:\n",
    "    tsv_file = csv.reader(file, delimiter=\"\\t\")\n",
    "    \n",
    "    for i in range(12):\n",
    "        file, next(file)\n",
    "\n",
    "    # criar arestas (artigos que direcionam a si mesmo não definirão uma nova aresta)\n",
    "    for line in tsv_file:\n",
    "        rem = urllib.parse.unquote(line[0])\n",
    "        dest = urllib.parse.unquote(line[1])\n",
    "        if rem!=dest:\n",
    "            g.add_edge(rem,dest)"
   ]
  },
  {
   "cell_type": "code",
   "execution_count": 9,
   "id": "bc76b712",
   "metadata": {},
   "outputs": [
    {
     "name": "stdout",
     "output_type": "stream",
     "text": [
      "número de arestas de g: 119772\n"
     ]
    }
   ],
   "source": [
    "print('número de arestas de g:', g.num_edges())"
   ]
  },
  {
   "cell_type": "code",
   "execution_count": 10,
   "id": "e921b9f7",
   "metadata": {},
   "outputs": [
    {
     "name": "stderr",
     "output_type": "stream",
     "text": [
      "<frozen importlib._bootstrap>:914: ImportWarning: VendorImporter.find_spec() not found; falling back to find_module()\n",
      "/usr/local/lib/python3.10/site-packages/seaborn/rcmod.py:82: DeprecationWarning: distutils Version classes are deprecated. Use packaging.version instead.\n",
      "  if LooseVersion(mpl.__version__) >= \"3.0\":\n",
      "/usr/local/lib/python3.10/site-packages/setuptools/_distutils/version.py:346: DeprecationWarning: distutils Version classes are deprecated. Use packaging.version instead.\n",
      "  other = LooseVersion(other)\n",
      "<frozen importlib._bootstrap>:914: ImportWarning: VendorImporter.find_spec() not found; falling back to find_module()\n",
      "<frozen importlib._bootstrap>:914: ImportWarning: VendorImporter.find_spec() not found; falling back to find_module()\n",
      "/usr/local/lib/python3.10/site-packages/seaborn/rcmod.py:400: DeprecationWarning: distutils Version classes are deprecated. Use packaging.version instead.\n",
      "  if LooseVersion(mpl.__version__) >= \"3.0\":\n",
      "/usr/local/lib/python3.10/site-packages/setuptools/_distutils/version.py:346: DeprecationWarning: distutils Version classes are deprecated. Use packaging.version instead.\n",
      "  other = LooseVersion(other)\n"
     ]
    }
   ],
   "source": [
    "import seaborn\n",
    "from netpixi.integration.gt import *\n",
    "from regression.integration.gt import *"
   ]
  },
  {
   "cell_type": "code",
   "execution_count": 11,
   "id": "bbedf967",
   "metadata": {},
   "outputs": [
    {
     "data": {
      "text/plain": [
       "21192212"
      ]
     },
     "execution_count": 11,
     "metadata": {},
     "output_type": "execute_result"
    }
   ],
   "source": [
    "n = g.num_vertices()\n",
    "m = g.num_edges()\n",
    "if g.is_directed():\n",
    "    max_edges = n * (n - 1)\n",
    "else:\n",
    "    max_edges = n * (n - 1) // 2\n",
    "max_edges"
   ]
  },
  {
   "cell_type": "code",
   "execution_count": 12,
   "id": "f50f427d",
   "metadata": {},
   "outputs": [
    {
     "data": {
      "text/plain": [
       "0.005651698841064821"
      ]
     },
     "execution_count": 12,
     "metadata": {},
     "output_type": "execute_result"
    }
   ],
   "source": [
    "d = m / max_edges\n",
    "d"
   ]
  },
  {
   "cell_type": "code",
   "execution_count": 13,
   "id": "8d90068b",
   "metadata": {},
   "outputs": [
    {
     "data": {
      "text/html": [
       "<div>\n",
       "<style scoped>\n",
       "    .dataframe tbody tr th:only-of-type {\n",
       "        vertical-align: middle;\n",
       "    }\n",
       "\n",
       "    .dataframe tbody tr th {\n",
       "        vertical-align: top;\n",
       "    }\n",
       "\n",
       "    .dataframe thead th {\n",
       "        text-align: right;\n",
       "    }\n",
       "</style>\n",
       "<table border=\"1\" class=\"dataframe\">\n",
       "  <thead>\n",
       "    <tr style=\"text-align: right;\">\n",
       "      <th></th>\n",
       "    </tr>\n",
       "    <tr>\n",
       "      <th>id</th>\n",
       "    </tr>\n",
       "  </thead>\n",
       "  <tbody>\n",
       "    <tr>\n",
       "      <th>Áedán_mac_Gabráin</th>\n",
       "    </tr>\n",
       "    <tr>\n",
       "      <th>Åland</th>\n",
       "    </tr>\n",
       "    <tr>\n",
       "      <th>Édouard_Manet</th>\n",
       "    </tr>\n",
       "    <tr>\n",
       "      <th>Éire</th>\n",
       "    </tr>\n",
       "    <tr>\n",
       "      <th>Óengus_I_of_the_Picts</th>\n",
       "    </tr>\n",
       "    <tr>\n",
       "      <th>...</th>\n",
       "    </tr>\n",
       "    <tr>\n",
       "      <th>Zionism</th>\n",
       "    </tr>\n",
       "    <tr>\n",
       "      <th>Zirconium</th>\n",
       "    </tr>\n",
       "    <tr>\n",
       "      <th>Zoroaster</th>\n",
       "    </tr>\n",
       "    <tr>\n",
       "      <th>Zuid-Gelders</th>\n",
       "    </tr>\n",
       "    <tr>\n",
       "      <th>Zulu</th>\n",
       "    </tr>\n",
       "  </tbody>\n",
       "</table>\n",
       "<p>4604 rows × 0 columns</p>\n",
       "</div>"
      ],
      "text/plain": [
       "Empty DataFrame\n",
       "Columns: []\n",
       "Index: [Áedán_mac_Gabráin, Åland, Édouard_Manet, Éire, Óengus_I_of_the_Picts, €2_commemorative_coins, 10th_century, 11th_century, 12th_century, 13th_century, 14th_century, 15th_Marine_Expeditionary_Unit, 15th_century, 16_Cygni, 16_Cygni_Bb, 16th_century, 1755_Lisbon_earthquake, 17th_century, 1896_Summer_Olympics, 18th_century, 1928_Okeechobee_Hurricane, 1973_oil_crisis, 1980_eruption_of_Mount_St._Helens, 1997_Pacific_hurricane_season, 19th_century, 1_Ceres, 1st_century, 1st_century_BC, 2-6-0, 2-8-0, 2003_Atlantic_hurricane_season, 2004_Atlantic_hurricane_season, 2004_Indian_Ocean_earthquake, 2005_Atlantic_hurricane_season, 2005_Hertfordshire_Oil_Storage_Terminal_fire, 2005_Kashmir_earthquake, 2005_Lake_Tanganyika_earthquake, 2005_Sumatra_earthquake, 20th_century, 21st_century, 2nd_century, 3_Juno, 3rd_century, 4-2-0, 4-4-0, 4-6-0, 47_Ursae_Majoris, 47_Ursae_Majoris_b, 47_Ursae_Majoris_c, 4_Vesta, 4th_century, 55_Cancri, 55_Cancri_b, 55_Cancri_c, 55_Cancri_d, 55_Cancri_e, 5th_century, 6-2-0, 6th_century, 7th_century, 8th_century, 90377_Sedna, 9th_century, A._E._J._Collins, ABO_blood_group_system, AC_DC, AIDS, AK-47, ALCO_FA, ASCII, AT&T, ATLAS_experiment, A_Christmas_Carol, A_Tale_of_a_Tub, A_Wrinkle_in_Time, A_cappella, Aachen, Aardvark, Aarhus, Abacá, Abacus, Abadan, Abbadid, Abbas_I_of_Persia, Abbasid, Abbey, Abbey_Theatre, Abbot, Abel_Tasman, Aberdeen, Aberration_of_light, Aberystwyth, Abhidhamma_Pitaka, Abidjan, Abkhazia, Able_Archer_83, Abraham_Goldfaden, Abraham_Lincoln, Absinthe, Absolute_zero, ...]\n",
       "\n",
       "[4604 rows x 0 columns]"
      ]
     },
     "execution_count": 13,
     "metadata": {},
     "output_type": "execute_result"
    }
   ],
   "source": [
    "data = gt_data(g)\n",
    "data"
   ]
  },
  {
   "cell_type": "code",
   "execution_count": 14,
   "id": "915ef935",
   "metadata": {},
   "outputs": [],
   "source": [
    "in_degrees = []\n",
    "for v in g.all_vertices():\n",
    "    in_degrees.append(v.in_degree())\n",
    "\n",
    "out_degrees = []\n",
    "for v in g.all_vertices():\n",
    "    out_degrees.append(v.out_degree())\n",
    "\n",
    "degrees = []\n",
    "for v in g.all_vertices():\n",
    "    degrees.append(v.total_degree())"
   ]
  },
  {
   "cell_type": "code",
   "execution_count": 15,
   "id": "413114c9",
   "metadata": {},
   "outputs": [
    {
     "data": {
      "text/html": [
       "<div>\n",
       "<style scoped>\n",
       "    .dataframe tbody tr th:only-of-type {\n",
       "        vertical-align: middle;\n",
       "    }\n",
       "\n",
       "    .dataframe tbody tr th {\n",
       "        vertical-align: top;\n",
       "    }\n",
       "\n",
       "    .dataframe thead th {\n",
       "        text-align: right;\n",
       "    }\n",
       "</style>\n",
       "<table border=\"1\" class=\"dataframe\">\n",
       "  <thead>\n",
       "    <tr style=\"text-align: right;\">\n",
       "      <th></th>\n",
       "      <th>in_degree</th>\n",
       "      <th>out_degree</th>\n",
       "      <th>degree</th>\n",
       "    </tr>\n",
       "    <tr>\n",
       "      <th>id</th>\n",
       "      <th></th>\n",
       "      <th></th>\n",
       "      <th></th>\n",
       "    </tr>\n",
       "  </thead>\n",
       "  <tbody>\n",
       "    <tr>\n",
       "      <th>Áedán_mac_Gabráin</th>\n",
       "      <td>0</td>\n",
       "      <td>11</td>\n",
       "      <td>11</td>\n",
       "    </tr>\n",
       "    <tr>\n",
       "      <th>Åland</th>\n",
       "      <td>0</td>\n",
       "      <td>19</td>\n",
       "      <td>19</td>\n",
       "    </tr>\n",
       "    <tr>\n",
       "      <th>Édouard_Manet</th>\n",
       "      <td>0</td>\n",
       "      <td>20</td>\n",
       "      <td>20</td>\n",
       "    </tr>\n",
       "    <tr>\n",
       "      <th>Éire</th>\n",
       "      <td>0</td>\n",
       "      <td>8</td>\n",
       "      <td>8</td>\n",
       "    </tr>\n",
       "    <tr>\n",
       "      <th>Óengus_I_of_the_Picts</th>\n",
       "      <td>0</td>\n",
       "      <td>10</td>\n",
       "      <td>10</td>\n",
       "    </tr>\n",
       "    <tr>\n",
       "      <th>...</th>\n",
       "      <td>...</td>\n",
       "      <td>...</td>\n",
       "      <td>...</td>\n",
       "    </tr>\n",
       "    <tr>\n",
       "      <th>Zionism</th>\n",
       "      <td>25</td>\n",
       "      <td>74</td>\n",
       "      <td>99</td>\n",
       "    </tr>\n",
       "    <tr>\n",
       "      <th>Zirconium</th>\n",
       "      <td>15</td>\n",
       "      <td>42</td>\n",
       "      <td>57</td>\n",
       "    </tr>\n",
       "    <tr>\n",
       "      <th>Zoroaster</th>\n",
       "      <td>9</td>\n",
       "      <td>28</td>\n",
       "      <td>37</td>\n",
       "    </tr>\n",
       "    <tr>\n",
       "      <th>Zuid-Gelders</th>\n",
       "      <td>5</td>\n",
       "      <td>5</td>\n",
       "      <td>10</td>\n",
       "    </tr>\n",
       "    <tr>\n",
       "      <th>Zulu</th>\n",
       "      <td>14</td>\n",
       "      <td>15</td>\n",
       "      <td>29</td>\n",
       "    </tr>\n",
       "  </tbody>\n",
       "</table>\n",
       "<p>4604 rows × 3 columns</p>\n",
       "</div>"
      ],
      "text/plain": [
       "                       in_degree  out_degree  degree\n",
       "id                                                  \n",
       "Áedán_mac_Gabráin              0          11      11\n",
       "Åland                          0          19      19\n",
       "Édouard_Manet                  0          20      20\n",
       "Éire                           0           8       8\n",
       "Óengus_I_of_the_Picts          0          10      10\n",
       "...                          ...         ...     ...\n",
       "Zionism                       25          74      99\n",
       "Zirconium                     15          42      57\n",
       "Zoroaster                      9          28      37\n",
       "Zuid-Gelders                   5           5      10\n",
       "Zulu                          14          15      29\n",
       "\n",
       "[4604 rows x 3 columns]"
      ]
     },
     "execution_count": 15,
     "metadata": {},
     "output_type": "execute_result"
    }
   ],
   "source": [
    "data['in_degree'] = in_degrees\n",
    "data['out_degree'] = out_degrees\n",
    "data['degree'] = degrees\n",
    "data"
   ]
  },
  {
   "cell_type": "code",
   "execution_count": 16,
   "id": "23291762",
   "metadata": {},
   "outputs": [
    {
     "data": {
      "text/plain": [
       "count    4604.000000\n",
       "mean       26.014770\n",
       "std        62.741796\n",
       "min         0.000000\n",
       "25%         2.000000\n",
       "50%         8.000000\n",
       "75%        25.000000\n",
       "max      1551.000000\n",
       "Name: in_degree, dtype: float64"
      ]
     },
     "execution_count": 16,
     "metadata": {},
     "output_type": "execute_result"
    },
    {
     "data": {
      "image/png": "[encoded data removed]",
      "text/plain": [
       "<Figure size 640x480 with 1 Axes>"
      ]
     },
     "metadata": {},
     "output_type": "display_data"
    }
   ],
   "source": [
    "data['in_degree'].hist(bins=range(100))\n",
    "data['in_degree'].describe()"
   ]
  },
  {
   "cell_type": "code",
   "execution_count": 17,
   "id": "06848819",
   "metadata": {},
   "outputs": [
    {
     "data": {
      "text/plain": [
       "count    4604.000000\n",
       "mean       52.029540\n",
       "std        78.539943\n",
       "min         0.000000\n",
       "25%        16.000000\n",
       "50%        30.000000\n",
       "75%        59.000000\n",
       "max      1845.000000\n",
       "Name: degree, dtype: float64"
      ]
     },
     "execution_count": 17,
     "metadata": {},
     "output_type": "execute_result"
    },
    {
     "data": {
      "image/png": "[encoded data removed]",
      "text/plain": [
       "<Figure size 640x480 with 1 Axes>"
      ]
     },
     "metadata": {},
     "output_type": "display_data"
    }
   ],
   "source": [
    "data['degree'].hist(bins=range(100))\n",
    "data['degree'].describe()"
   ]
  },
  {
   "cell_type": "code",
   "execution_count": 18,
   "id": "1ef7cd17",
   "metadata": {},
   "outputs": [
    {
     "data": {
      "text/plain": [
       "count    4604.000000\n",
       "mean       26.014770\n",
       "std        24.195341\n",
       "min         0.000000\n",
       "25%        11.000000\n",
       "50%        19.000000\n",
       "75%        33.000000\n",
       "max       294.000000\n",
       "Name: out_degree, dtype: float64"
      ]
     },
     "execution_count": 18,
     "metadata": {},
     "output_type": "execute_result"
    },
    {
     "data": {
      "image/png": "[encoded data removed]",
      "text/plain": [
       "<Figure size 640x480 with 1 Axes>"
      ]
     },
     "metadata": {},
     "output_type": "display_data"
    }
   ],
   "source": [
    "data['out_degree'].hist(bins=range(50))\n",
    "data['out_degree'].describe()"
   ]
  },
  {
   "cell_type": "markdown",
   "id": "024cccba",
   "metadata": {},
   "source": [
    "### TESTE"
   ]
  },
  {
   "cell_type": "code",
   "execution_count": 19,
   "id": "f66094de",
   "metadata": {},
   "outputs": [],
   "source": [
    "from netpixi.integration.gt import *"
   ]
  },
  {
   "cell_type": "code",
   "execution_count": 20,
   "id": "bd3d3e2b",
   "metadata": {},
   "outputs": [],
   "source": [
    "gt_save(g, 'teste.net.gz')\n"
   ]
  },
  {
   "cell_type": "code",
   "execution_count": 21,
   "id": "d7408254",
   "metadata": {},
   "outputs": [],
   "source": [
    "g = gt_load('teste.net.gz')\n",
    "m = gt_draw.sfdp_layout(g)\n",
    "gt_move(g, m)\n",
    "gt_save(g, 'exemplo.net.gz')"
   ]
  },
  {
   "cell_type": "code",
   "execution_count": 26,
   "id": "2ee10658",
   "metadata": {
    "scrolled": true
   },
   "outputs": [
    {
     "data": {
      "text/html": [
       "\n",
       "        <div id=\"F2HD9MZULFACMXxq2f6NDs\"></div>\n",
       "        <script>netpixi.render('F2HD9MZULFACMXxq2f6NDs', 'exemplo.net.gz', 1.7777777777777777, true, true, false);</script>\n",
       "    "
      ],
      "text/plain": [
       "<IPython.core.display.HTML object>"
      ]
     },
     "metadata": {},
     "output_type": "display_data"
    }
   ],
   "source": [
    "r = netpixi.render('exemplo.net.gz', infinite=True);"
   ]
  },
  {
   "cell_type": "code",
   "execution_count": 25,
   "id": "7eff643b",
   "metadata": {},
   "outputs": [
    {
     "data": {
      "text/html": [
       "\n",
       "        <div id=\"TqEXoi3uCwE2ox9Te2jcFu\"></div>\n",
       "        <script>netpixi.call('TqEXoi3uCwE2ox9Te2jcFu', 'iyGLV36KVf57k7CVVgfGE4', 'changeGraph', 'eyJ0eXBlIjogInNldHRpbmdzIiwgInByb3BzIjogeyJncmFwaCI6IHsiY29sb3IiOiAwfX19Cg==');</script>\n",
       "    "
      ],
      "text/plain": [
       "<IPython.core.display.HTML object>"
      ]
     },
     "metadata": {},
     "output_type": "display_data"
    },
    {
     "data": {
      "text/html": [
       "\n",
       "        <div id=\"dMnq9y7k6RjTnkAowRcQhb\"></div>\n",
       "        <script>netpixi.call('dMnq9y7k6RjTnkAowRcQhb', 'iyGLV36KVf57k7CVVgfGE4', 'changeGraph', 'eyJ0eXBlIjogInNldHRpbmdzIiwgInByb3BzIjogeyJ2ZXJ0ZXgiOiB7ImNvbG9yIjogMTY0NDkyODAsICJzaXplIjogMTV9fX0K');</script>\n",
       "    "
      ],
      "text/plain": [
       "<IPython.core.display.HTML object>"
      ]
     },
     "metadata": {},
     "output_type": "display_data"
    },
    {
     "data": {
      "text/html": [
       "\n",
       "        <div id=\"ZHZBwijxNRd75qx9eS78Mh\"></div>\n",
       "        <script>netpixi.call('ZHZBwijxNRd75qx9eS78Mh', 'iyGLV36KVf57k7CVVgfGE4', 'changeGraph', 'eyJ0eXBlIjogInNldHRpbmdzIiwgInByb3BzIjogeyJlZGdlIjogeyJjb2xvciI6IDE2Nzc3MjE1LCAid2lkdGgiOiAxLCAiY3VydmUxIjogMCwgImN1cnZlMiI6IDB9fX0K');</script>\n",
       "    "
      ],
      "text/plain": [
       "<IPython.core.display.HTML object>"
      ]
     },
     "metadata": {},
     "output_type": "display_data"
    },
    {
     "data": {
      "text/html": [
       "\n",
       "        <div id=\"aHUbXsVtPH5BknAy4gm5Y2\"></div>\n",
       "        <script>netpixi.call('aHUbXsVtPH5BknAy4gm5Y2', 'iyGLV36KVf57k7CVVgfGE4', 'setGraph', 'eyJ0eXBlIjogInZlcnRleCIsICJwcm9wcyI6IHsic3JjIjogImlkIiwgImRzdCI6ICJfa2V5In19Cg==');</script>\n",
       "    "
      ],
      "text/plain": [
       "<IPython.core.display.HTML object>"
      ]
     },
     "metadata": {},
     "output_type": "display_data"
    }
   ],
   "source": [
    "# mudar a cor de fundo do grafo\n",
    "r.graph(color=0x000000)\n",
    "\n",
    "# mudar a cor e o tamanho dos vértices\n",
    "r.vertex_default(color=0xfaff00, size=15)\n",
    "\n",
    "# mudar a cor, a espessura e a curvatura das arestas\n",
    "r.edge_default(color=0xffffff, width=1, curve1=0, curve2=0)\n",
    "\n",
    "\n",
    "r.vertex_set_key('id')"
   ]
  },
  {
   "cell_type": "code",
   "execution_count": null,
   "id": "02586b9e",
   "metadata": {},
   "outputs": [],
   "source": []
  }
 ],
 "metadata": {
  "kernelspec": {
   "display_name": "Python 3 (ipykernel)",
   "language": "python",
   "name": "python3"
  },
  "language_info": {
   "codemirror_mode": {
    "name": "ipython",
    "version": 3
   },
   "file_extension": ".py",
   "mimetype": "text/x-python",
   "name": "python",
   "nbconvert_exporter": "python",
   "pygments_lexer": "ipython3",
   "version": "3.10.6"
  }
 },
 "nbformat": 4,
 "nbformat_minor": 5
}
