{
 "cells": [
  {
   "cell_type": "markdown",
   "id": "1962b11a",
   "metadata": {},
   "source": [
    "# APS1 - Redes Sociais"
   ]
  },
  {
   "cell_type": "markdown",
   "id": "f5f81bf5",
   "metadata": {},
   "source": [
    "### Bruno Freitas do Nascimento Rodrigues e\n",
    "### Nicolas Byung Kwan Cho"
   ]
  },
  {
   "cell_type": "markdown",
   "id": "59555f72",
   "metadata": {},
   "source": [
    "## Introdução\n",
    "\n"
   ]
  },
  {
   "cell_type": "markdown",
   "id": "4c2b6c95",
   "metadata": {},
   "source": [
    "O dataset escolhido representa rede confiança entre usuários de uma plataforma de troca de Bitcoins, nesse caso a rede confiança tem como função marcar a reputação das carteiras para prevenir os usuários de fraudes e outros males. Contudo, no caso desta APS serão analisadas apenas as relações de trocas entre as carteiras sem se ater à confiabilidade delas."
   ]
  },
  {
   "cell_type": "markdown",
   "id": "81ae9728",
   "metadata": {},
   "source": [
    "## Importando bibliotecas e criando grafo"
   ]
  },
  {
   "cell_type": "code",
   "execution_count": null,
   "id": "2b285427",
   "metadata": {
    "scrolled": true
   },
   "outputs": [],
   "source": [
    "import csv\n",
    "import netpixi\n",
    "from netpixi.integration.gt import Graph\n",
    "import seaborn\n",
    "from netpixi.integration.gt import *\n",
    "from regression.integration.gt import *"
   ]
  },
  {
   "cell_type": "markdown",
   "id": "3f96997b",
   "metadata": {},
   "source": [
    "Como a troca entre duas carteiras representa que uma está unicamente enviando moedas enquanto está apenas recebendo, o grafo será dirigido"
   ]
  },
  {
   "cell_type": "code",
   "execution_count": null,
   "id": "b8f77687",
   "metadata": {},
   "outputs": [],
   "source": [
    "g = Graph(directed=True) # dirigido\n",
    "g.add_ep('rating')\n",
    "g.add_vp('dg')"
   ]
  },
  {
   "cell_type": "code",
   "execution_count": null,
   "id": "84efea4b",
   "metadata": {},
   "outputs": [],
   "source": [
    "node_list = []\n",
    "with open(\"soc-sign-bitcoinotc.csv\", 'r', encoding='utf-8') as file:\n",
    "    csv_file = csv.reader(file)\n",
    "    for line in csv_file:\n",
    "        a = int(line[0])\n",
    "        b = int(line[1])\n",
    "        c = int(line[2])\n",
    "        if a not in node_list:\n",
    "            node_list.append(a)\n",
    "            g.add_vertex(a)\n",
    "        if b not in node_list:\n",
    "            node_list.append(b)\n",
    "            g.add_vertex(b)\n",
    "        g.add_edge(a, b)\n",
    "        g.get_edge(a, b)['rating'] = c\n",
    "        "
   ]
  },
  {
   "cell_type": "markdown",
   "id": "1fda17aa",
   "metadata": {},
   "source": [
    "## Análise exploratória"
   ]
  },
  {
   "cell_type": "code",
   "execution_count": null,
   "id": "37a7ab2b",
   "metadata": {},
   "outputs": [],
   "source": [
    "print('número de vértices de g:', g.num_vertices())"
   ]
  },
  {
   "cell_type": "code",
   "execution_count": null,
   "id": "a912fb53",
   "metadata": {},
   "outputs": [],
   "source": [
    "print('número de arestas de g:', g.num_edges())"
   ]
  },
  {
   "cell_type": "code",
   "execution_count": null,
   "id": "cf13b149",
   "metadata": {},
   "outputs": [],
   "source": [
    "n = g.num_vertices()\n",
    "m = g.num_edges()\n",
    "if g.is_directed():\n",
    "    max_edges = n * (n - 1)\n",
    "else:\n",
    "    max_edges = n * (n - 1) // 2\n",
    "print('max de arestas possiveis:', max_edges)"
   ]
  },
  {
   "cell_type": "code",
   "execution_count": null,
   "id": "f8a07520",
   "metadata": {},
   "outputs": [],
   "source": [
    "d = m / max_edges\n",
    "print('densidade:', d)"
   ]
  },
  {
   "cell_type": "markdown",
   "id": "b1b05457",
   "metadata": {},
   "source": [
    "É perceptível pela densidade que menos de 1% das transações possíveis estão sendo realizadas "
   ]
  },
  {
   "cell_type": "code",
   "execution_count": null,
   "id": "53859de7",
   "metadata": {},
   "outputs": [],
   "source": [
    "in_degrees = []\n",
    "for v in g.all_vertices():\n",
    "    in_degrees.append(v.in_degree())\n",
    "\n",
    "out_degrees = []\n",
    "for v in g.all_vertices():\n",
    "    out_degrees.append(v.out_degree())\n",
    "\n",
    "degrees = []\n",
    "for v in g.all_vertices():\n",
    "    v['dg'] = v.total_degree()\n",
    "    degrees.append(v.total_degree())"
   ]
  },
  {
   "cell_type": "code",
   "execution_count": null,
   "id": "67644be9",
   "metadata": {},
   "outputs": [],
   "source": [
    "data = gt_data(g)\n",
    "data"
   ]
  },
  {
   "cell_type": "markdown",
   "id": "6aa70c67",
   "metadata": {},
   "source": [
    "Abaixo são adicionadas métricas para ser possível analisar as arestas entram e às saem dos vértices:"
   ]
  },
  {
   "cell_type": "code",
   "execution_count": null,
   "id": "5557c0e6",
   "metadata": {
    "scrolled": true
   },
   "outputs": [],
   "source": [
    "data['in_degree'] = in_degrees\n",
    "data['out_degree'] = out_degrees\n",
    "data['degree'] = degrees\n",
    "data"
   ]
  },
  {
   "cell_type": "markdown",
   "id": "f399a68b",
   "metadata": {},
   "source": [
    "**Observação:**\n",
    "Para os histogramas abaixo o range deles foi definido em 30, pois o comportamento de maior interesse está no intervalo inicial"
   ]
  },
  {
   "cell_type": "code",
   "execution_count": null,
   "id": "745b863b",
   "metadata": {},
   "outputs": [],
   "source": [
    "data['in_degree'].hist(bins=range(30))\n",
    "data['in_degree'].describe()"
   ]
  },
  {
   "cell_type": "code",
   "execution_count": null,
   "id": "4295aac3",
   "metadata": {},
   "outputs": [],
   "source": [
    "data['out_degree'].hist(bins=range(30))\n",
    "data['out_degree'].describe()"
   ]
  },
  {
   "cell_type": "code",
   "execution_count": null,
   "id": "8a7f8c2e",
   "metadata": {},
   "outputs": [],
   "source": [
    "data['degree'].hist(bins=range(30))\n",
    "data['degree'].describe()"
   ]
  },
  {
   "cell_type": "markdown",
   "id": "e82691b8",
   "metadata": {},
   "source": [
    "Observando os valores de média e máximo dos histogramas acima, fica evidente que nessa rede de trocas há uma quantidade reduzida de carteiras que realizam muitas recebimentos e envios, enquanto a maioria dos usuários realizam poucas transações"
   ]
  },
  {
   "cell_type": "markdown",
   "id": "00949774",
   "metadata": {},
   "source": [
    "## Análise visual"
   ]
  },
  {
   "cell_type": "markdown",
   "id": "6ec43ee9",
   "metadata": {},
   "source": [
    "### SFDP - Scalable Force Directed Placement"
   ]
  },
  {
   "cell_type": "code",
   "execution_count": null,
   "id": "377298a6",
   "metadata": {},
   "outputs": [],
   "source": [
    "m = gt_draw.sfdp_layout(g)\n",
    "gt_move(g, m)\n",
    "gt_save(g, 'btc_sfdp.net.gz')"
   ]
  },
  {
   "cell_type": "code",
   "execution_count": null,
   "id": "17a23f90",
   "metadata": {
    "scrolled": true
   },
   "outputs": [],
   "source": [
    "r = netpixi.render('btc_sfdp.net.gz', infinite=True,aspect=1);"
   ]
  },
  {
   "cell_type": "markdown",
   "id": "233a39f6",
   "metadata": {},
   "source": [
    "Aplicando ferramentas de visualização para a melhor identificação dos dados"
   ]
  },
  {
   "cell_type": "code",
   "execution_count": null,
   "id": "9feb6529",
   "metadata": {},
   "outputs": [],
   "source": [
    "r.vertex_set_key('id')# adcionana labels para os vértices"
   ]
  },
  {
   "cell_type": "code",
   "execution_count": null,
   "id": "a8f1aadb",
   "metadata": {},
   "outputs": [],
   "source": [
    "r.vertex_scale('dg', 0.1, 5)#Normalisa o tamanho dos vértices com base no degree"
   ]
  },
  {
   "cell_type": "code",
   "execution_count": null,
   "id": "fb94dfe7",
   "metadata": {},
   "outputs": [],
   "source": [
    "r.vertex_default(color=0x00ff00, bwidth=3)#Configura cor e espessura da borda dos vértices\n",
    "r.edge_default(alpha=0.1, width = 1)#Configura trasparência e espessura da borda das arestas"
   ]
  },
  {
   "cell_type": "code",
   "execution_count": null,
   "id": "e415d960",
   "metadata": {},
   "outputs": [],
   "source": [
    "r.graph(kscale=20)#Ajusta escala da chave em relação ao tamanho do vértice"
   ]
  },
  {
   "cell_type": "markdown",
   "id": "1f5fbabf",
   "metadata": {},
   "source": [
    "## Referências"
   ]
  },
  {
   "cell_type": "markdown",
   "id": "ef2b164e",
   "metadata": {},
   "source": [
    "Dataset: https://snap.stanford.edu/data/soc-sign-bitcoin-otc.html"
   ]
  }
 ],
 "metadata": {
  "kernelspec": {
   "display_name": "Python 3 (ipykernel)",
   "language": "python",
   "name": "python3"
  },
  "language_info": {
   "codemirror_mode": {
    "name": "ipython",
    "version": 3
   },
   "file_extension": ".py",
   "mimetype": "text/x-python",
   "name": "python",
   "nbconvert_exporter": "python",
   "pygments_lexer": "ipython3",
   "version": "3.10.6"
  }
 },
 "nbformat": 4,
 "nbformat_minor": 5
}
