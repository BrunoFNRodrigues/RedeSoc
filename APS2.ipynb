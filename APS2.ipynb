{
 "cells": [
  {
   "cell_type": "markdown",
   "id": "de12b836",
   "metadata": {},
   "source": [
    "# APS2 - Redes Sociais"
   ]
  },
  {
   "cell_type": "markdown",
   "id": "5d8c46c0",
   "metadata": {},
   "source": [
    "### Bruno Freitas de Nascimento Rodrigues e Nicolas Byung Kwan Cho"
   ]
  },
  {
   "cell_type": "code",
   "execution_count": 1,
   "id": "ab834675",
   "metadata": {},
   "outputs": [
    {
     "data": {
      "text/html": [
       "\n",
       "    <script src=\"/files/netpixi.min.js\"></script>\n"
      ],
      "text/plain": [
       "<IPython.core.display.HTML object>"
      ]
     },
     "metadata": {},
     "output_type": "display_data"
    },
    {
     "name": "stderr",
     "output_type": "stream",
     "text": [
      "/usr/local/lib/python3.10/site-packages/seaborn/rcmod.py:4: DeprecationWarning: The distutils package is deprecated and slated for removal in Python 3.12. Use setuptools or check PEP 632 for potential alternatives\n",
      "  from distutils.version import LooseVersion\n",
      "<frozen importlib._bootstrap>:914: ImportWarning: VendorImporter.find_spec() not found; falling back to find_module()\n",
      "<frozen importlib._bootstrap>:914: ImportWarning: VendorImporter.find_spec() not found; falling back to find_module()\n",
      "<frozen importlib._bootstrap>:914: ImportWarning: VendorImporter.find_spec() not found; falling back to find_module()\n"
     ]
    }
   ],
   "source": [
    "import csv\n",
    "import netpixi\n",
    "from netpixi.integration.gt import Graph\n",
    "import seaborn\n",
    "from netpixi.integration.gt import *\n",
    "from regression.integration.gt import *\n",
    "from graph_tool import centrality\n",
    "from graph_tool import clustering\n",
    "import cpnet\n",
    "from graph_tool import spectral"
   ]
  },
  {
   "cell_type": "markdown",
   "id": "6515ace3",
   "metadata": {},
   "source": [
    "## Tarefa 5"
   ]
  },
  {
   "cell_type": "markdown",
   "id": "1e0f4a94",
   "metadata": {},
   "source": [
    "### a) O que os vértices da rede representam?"
   ]
  },
  {
   "cell_type": "markdown",
   "id": "44b9d844",
   "metadata": {},
   "source": [
    "Os vértices da rede representam um portador de uma carteira de Bitcoin que realiza transações do tipo OTC (over-the-counter) conhecido como 'Mercado de Balcão'. Neste tipo de transação, o valor é transferido de forma direta entre o comprador e o vendedor, não precisando de intermédio de alguma corretora. "
   ]
  },
  {
   "cell_type": "markdown",
   "id": "e75575f3",
   "metadata": {},
   "source": [
    "### b) O que as arestas da rede representam? "
   ]
  },
  {
   "cell_type": "markdown",
   "id": "b34ceb61",
   "metadata": {},
   "source": [
    "Como os portadores das carteiras permanecem anônimos, é interessante que se mantenha um registro de usuários que sejam confiáveis para esse tipo de transação. Logo, as arestas da rede representam uma nota de confiabilidade que um portador dá a outro baseado em transações passadas. Como um membro avalia outro membro da rede, temos arestas representadas por setas, em que o início parte do membro que avalia e a ponta da seta chega no membro avaliado. As notas vão de -10 até 10 em passos de 1 em 1."
   ]
  },
  {
   "cell_type": "markdown",
   "id": "34d9aa10",
   "metadata": {},
   "source": [
    "### c) O que os grupos formados pela tarefa 4 representam?\n"
   ]
  },
  {
   "cell_type": "markdown",
   "id": "aac77aa9",
   "metadata": {},
   "source": [
    "Os grupos formados representam membros que já realizaram transações entre si, de forma que os membros desses grupos estão conectados por avaliações feitas entre eles. "
   ]
  },
  {
   "cell_type": "markdown",
   "id": "634ac034",
   "metadata": {},
   "source": [
    "## Tarefa 6"
   ]
  },
  {
   "cell_type": "code",
   "execution_count": null,
   "id": "8a9e1044",
   "metadata": {},
   "outputs": [],
   "source": [
    "g = gt_load('../../notebooks/RedeSoc/btc_sfdp.net.gz')\n",
    "g = gt_clean(g)\n",
    "\n",
    "gt_save(g, 'btc_sfdp_2.net.gz')\n"
   ]
  },
  {
   "cell_type": "code",
   "execution_count": 2,
   "id": "e2a1fd19",
   "metadata": {},
   "outputs": [],
   "source": [
    "g = gt_load('../../notebooks/RedeSoc/btc_sfdp_2.net.gz')\n",
    "bc, _ = centrality.betweenness(g)\n",
    "g.add_vp('betweenness', bc)\n",
    "gt_save(g, 'btc_sfdp_2.net.gz')"
   ]
  },
  {
   "cell_type": "code",
   "execution_count": 3,
   "id": "adbba9e8",
   "metadata": {},
   "outputs": [],
   "source": [
    "g = gt_load('../../notebooks/RedeSoc/btc_sfdp_2.net.gz')\n",
    "cc = centrality.closeness(g)\n",
    "g.add_vp('closeness', cc)\n",
    "gt_save(g, 'btc_sfdp_2.net.gz')"
   ]
  },
  {
   "cell_type": "code",
   "execution_count": 4,
   "id": "50a1010c",
   "metadata": {},
   "outputs": [],
   "source": [
    "g = gt_load('../../notebooks/RedeSoc/btc_sfdp_2.net.gz')\n",
    "lc = clustering.local_clustering(g)\n",
    "g.add_vp('clustering', lc)\n",
    "gt_save(g, 'btc_sfdp_2.net.gz')\n"
   ]
  },
  {
   "cell_type": "code",
   "execution_count": 5,
   "id": "cac5285f",
   "metadata": {},
   "outputs": [],
   "source": [
    "g = gt_load('../../notebooks/RedeSoc/btc_sfdp_2.net.gz')\n",
    "es = gt_effective_size(g)\n",
    "g.add_vp('effsize', es)\n",
    "gt_save(g, 'btc_sfdp_2.net.gz')"
   ]
  },
  {
   "cell_type": "markdown",
   "id": "1b6898ea",
   "metadata": {},
   "source": [
    "# Render do grafo"
   ]
  },
  {
   "cell_type": "code",
   "execution_count": 6,
   "id": "eabab15f",
   "metadata": {
    "scrolled": true
   },
   "outputs": [
    {
     "data": {
      "text/html": [
       "\n",
       "        <div id=\"6GpnVUYBxxZ6wvC6taSRzJ\"></div>\n",
       "        <script>netpixi.render('6GpnVUYBxxZ6wvC6taSRzJ', 'btc_sfdp_2.net.gz', 1.3333333333333333, true, true, false);</script>\n",
       "    "
      ],
      "text/plain": [
       "<IPython.core.display.HTML object>"
      ]
     },
     "metadata": {},
     "output_type": "display_data"
    }
   ],
   "source": [
    "r = netpixi.render('btc_sfdp_2.net.gz', infinite=True,aspect=4/3)"
   ]
  },
  {
   "cell_type": "code",
   "execution_count": 7,
   "id": "ceb69a83",
   "metadata": {
    "scrolled": true
   },
   "outputs": [
    {
     "data": {
      "text/html": [
       "\n",
       "        <div id=\"bt6HiFnUkbZseDWonNWihP\"></div>\n",
       "        <script>netpixi.call('bt6HiFnUkbZseDWonNWihP', '6GpnVUYBxxZ6wvC6taSRzJ', 'setGraph', 'eyJ0eXBlIjogInZlcnRleCIsICJwcm9wcyI6IHsic3JjIjogImlkIiwgImRzdCI6ICJfa2V5In19Cg==');</script>\n",
       "    "
      ],
      "text/plain": [
       "<IPython.core.display.HTML object>"
      ]
     },
     "metadata": {},
     "output_type": "display_data"
    }
   ],
   "source": [
    "r.vertex_set_key('id')# adcionana labels para os vértices"
   ]
  },
  {
   "cell_type": "markdown",
   "id": "48a30ed9",
   "metadata": {},
   "source": [
    "## Opções de visualização por métrica:"
   ]
  },
  {
   "cell_type": "markdown",
   "id": "fc9567f1",
   "metadata": {},
   "source": [
    "### Degree:"
   ]
  },
  {
   "cell_type": "code",
   "execution_count": 8,
   "id": "e35af93b",
   "metadata": {},
   "outputs": [
    {
     "data": {
      "text/html": [
       "\n",
       "        <div id=\"mKnyQNJuhMWdtW6hL94zcP\"></div>\n",
       "        <script>netpixi.call('mKnyQNJuhMWdtW6hL94zcP', '6GpnVUYBxxZ6wvC6taSRzJ', 'normalizeGraph', 'eyJ0eXBlIjogInZlcnRleCIsICJwcm9wcyI6IHsic3JjIjogImRnIiwgIm1pbiI6IDAuMSwgIm1heCI6IDV9fQo=');</script>\n",
       "    "
      ],
      "text/plain": [
       "<IPython.core.display.HTML object>"
      ]
     },
     "metadata": {},
     "output_type": "display_data"
    }
   ],
   "source": [
    "r.vertex_scale('dg', 0.1, 5)#Normalisa o tamanho dos vértices com base no degree"
   ]
  },
  {
   "cell_type": "markdown",
   "id": "6f5c9ec0",
   "metadata": {},
   "source": [
    "#### i) A métrica representa algum conceito? Se sim, qual?"
   ]
  },
  {
   "cell_type": "markdown",
   "id": "b5e76e64",
   "metadata": {},
   "source": [
    "A métrica representa a quantidade de trasações que uma carteira realizou."
   ]
  },
  {
   "cell_type": "markdown",
   "id": "88337cb4",
   "metadata": {},
   "source": [
    "#### ii) Os maiores vértices (considerando a tarefa 6b) parecem estar em posições interessantes? Quais?"
   ]
  },
  {
   "cell_type": "markdown",
   "id": "652b3cb2",
   "metadata": {},
   "source": [
    "Os maiores vértices estão na posição de grandes receptores de moedas, como o 35 ou  o 2642."
   ]
  },
  {
   "cell_type": "markdown",
   "id": "e78e16cb",
   "metadata": {},
   "source": [
    "### Betweenness:"
   ]
  },
  {
   "cell_type": "code",
   "execution_count": 11,
   "id": "a1c89243",
   "metadata": {},
   "outputs": [
    {
     "data": {
      "text/html": [
       "\n",
       "        <div id=\"jyE8h8eBdhXeVrSfcsTnMB\"></div>\n",
       "        <script>netpixi.call('jyE8h8eBdhXeVrSfcsTnMB', '6GpnVUYBxxZ6wvC6taSRzJ', 'normalizeGraph', 'eyJ0eXBlIjogInZlcnRleCIsICJwcm9wcyI6IHsic3JjIjogImJldHdlZW5uZXNzIiwgIm1pbiI6IDAuMSwgIm1heCI6IDV9fQo=');</script>\n",
       "    "
      ],
      "text/plain": [
       "<IPython.core.display.HTML object>"
      ]
     },
     "metadata": {},
     "output_type": "display_data"
    }
   ],
   "source": [
    "r.vertex_scale('betweenness', 0.1, 5)#Normalisa o tamanho dos vértices com base no betweenness"
   ]
  },
  {
   "cell_type": "markdown",
   "id": "96648678",
   "metadata": {},
   "source": [
    "#### i) A métrica representa algum conceito? Se sim, qual?"
   ]
  },
  {
   "cell_type": "markdown",
   "id": "a7e418f7",
   "metadata": {},
   "source": [
    "Não"
   ]
  },
  {
   "cell_type": "markdown",
   "id": "7243c63a",
   "metadata": {},
   "source": [
    "#### ii) Os maiores vértices (considerando a tarefa 6b) parecem estar em posições interessantes? Quais?"
   ]
  },
  {
   "cell_type": "markdown",
   "id": "e1ec6cd3",
   "metadata": {},
   "source": [
    "--"
   ]
  },
  {
   "cell_type": "markdown",
   "id": "120ade63",
   "metadata": {},
   "source": [
    "### Closeness:"
   ]
  },
  {
   "cell_type": "code",
   "execution_count": 12,
   "id": "64c6593c",
   "metadata": {},
   "outputs": [
    {
     "data": {
      "text/html": [
       "\n",
       "        <div id=\"mF5iucu9F9eZnAA6X8phio\"></div>\n",
       "        <script>netpixi.call('mF5iucu9F9eZnAA6X8phio', '6GpnVUYBxxZ6wvC6taSRzJ', 'normalizeGraph', 'eyJ0eXBlIjogInZlcnRleCIsICJwcm9wcyI6IHsic3JjIjogImNsb3NlbmVzcyIsICJtaW4iOiAwLjEsICJtYXgiOiA1fX0K');</script>\n",
       "    "
      ],
      "text/plain": [
       "<IPython.core.display.HTML object>"
      ]
     },
     "metadata": {},
     "output_type": "display_data"
    }
   ],
   "source": [
    "r.vertex_scale('closeness', 0.1, 5)#Normalisa o tamanho dos vértices com base no closeness"
   ]
  },
  {
   "cell_type": "markdown",
   "id": "93e6321d",
   "metadata": {},
   "source": [
    "#### i) A métrica representa algum conceito? Se sim, qual?"
   ]
  },
  {
   "cell_type": "markdown",
   "id": "065ac4fa",
   "metadata": {},
   "source": [
    "Não"
   ]
  },
  {
   "cell_type": "markdown",
   "id": "13cd11c4",
   "metadata": {},
   "source": [
    "#### ii) Os maiores vértices (considerando a tarefa 6b) parecem estar em posições interessantes? Quais?"
   ]
  },
  {
   "cell_type": "markdown",
   "id": "b946976e",
   "metadata": {},
   "source": [
    "--"
   ]
  },
  {
   "cell_type": "markdown",
   "id": "a8f03106",
   "metadata": {},
   "source": [
    "### Clustering:"
   ]
  },
  {
   "cell_type": "code",
   "execution_count": 13,
   "id": "6d0b2ed2",
   "metadata": {},
   "outputs": [
    {
     "data": {
      "text/html": [
       "\n",
       "        <div id=\"cgceExNUfMrCW5xqAqRy8G\"></div>\n",
       "        <script>netpixi.call('cgceExNUfMrCW5xqAqRy8G', '6GpnVUYBxxZ6wvC6taSRzJ', 'normalizeGraph', 'eyJ0eXBlIjogInZlcnRleCIsICJwcm9wcyI6IHsic3JjIjogImNsdXN0ZXJpbmciLCAibWluIjogMC4xLCAibWF4IjogNX19Cg==');</script>\n",
       "    "
      ],
      "text/plain": [
       "<IPython.core.display.HTML object>"
      ]
     },
     "metadata": {},
     "output_type": "display_data"
    }
   ],
   "source": [
    "r.vertex_scale('clustering', 0.1, 5)#Normalisa o tamanho dos vértices com base no clustering"
   ]
  },
  {
   "cell_type": "markdown",
   "id": "e70b3698",
   "metadata": {},
   "source": [
    "#### i) A métrica representa algum conceito? Se sim, qual?"
   ]
  },
  {
   "cell_type": "markdown",
   "id": "4614503e",
   "metadata": {},
   "source": [
    "A métrica representa grupos de trocas fechados."
   ]
  },
  {
   "cell_type": "markdown",
   "id": "07d934cd",
   "metadata": {},
   "source": [
    "#### ii) Os maiores vértices (considerando a tarefa 6b) parecem estar em posições interessantes? Quais?"
   ]
  },
  {
   "cell_type": "markdown",
   "id": "608321aa",
   "metadata": {},
   "source": [
    "Como a maioria das carteiras já realizaram transações entre si existe um grande cluster, contudo existem carteiras que mobilizam grupos de carteiras de poucas transações, como a 3914 ou a 2171."
   ]
  },
  {
   "cell_type": "markdown",
   "id": "1a926f0f",
   "metadata": {},
   "source": [
    "### Effective size:"
   ]
  },
  {
   "cell_type": "code",
   "execution_count": 14,
   "id": "0a3ed47f",
   "metadata": {
    "scrolled": true
   },
   "outputs": [
    {
     "data": {
      "text/html": [
       "\n",
       "        <div id=\"FxBekKg2AzBurBXCHocX67\"></div>\n",
       "        <script>netpixi.call('FxBekKg2AzBurBXCHocX67', '6GpnVUYBxxZ6wvC6taSRzJ', 'normalizeGraph', 'eyJ0eXBlIjogInZlcnRleCIsICJwcm9wcyI6IHsic3JjIjogImVmZnNpemUiLCAibWluIjogMC4xLCAibWF4IjogNX19Cg==');</script>\n",
       "    "
      ],
      "text/plain": [
       "<IPython.core.display.HTML object>"
      ]
     },
     "metadata": {},
     "output_type": "display_data"
    }
   ],
   "source": [
    "r.vertex_scale('effsize', 0.1, 5)#Normalisa o tamanho dos vértices com base no effective size"
   ]
  },
  {
   "cell_type": "markdown",
   "id": "ca9e8443",
   "metadata": {},
   "source": [
    "#### i) A métrica representa algum conceito? Se sim, qual?"
   ]
  },
  {
   "cell_type": "markdown",
   "id": "fef8bad5",
   "metadata": {},
   "source": [
    "A métrica representa o quanto uma carteira pricipal trocou com carteiras que já tinham realizado com uma ou mais transações com outras carteiras que já viam realizado uma troca com a carteira principal."
   ]
  },
  {
   "cell_type": "markdown",
   "id": "ed06ade2",
   "metadata": {},
   "source": [
    "#### ii) Os maiores vértices (considerando a tarefa 6b) parecem estar em posições interessantes? Quais?"
   ]
  },
  {
   "cell_type": "markdown",
   "id": "c550db67",
   "metadata": {},
   "source": [
    "--"
   ]
  },
  {
   "cell_type": "markdown",
   "id": "e2f6323d",
   "metadata": {},
   "source": [
    "## Mudanças de cor e tamanho"
   ]
  },
  {
   "cell_type": "code",
   "execution_count": 9,
   "id": "23510598",
   "metadata": {
    "scrolled": true
   },
   "outputs": [
    {
     "data": {
      "text/html": [
       "\n",
       "        <div id=\"iGofhkwuu28ws4WXC7fmfe\"></div>\n",
       "        <script>netpixi.call('iGofhkwuu28ws4WXC7fmfe', '6GpnVUYBxxZ6wvC6taSRzJ', 'changeGraph', 'eyJ0eXBlIjogInNldHRpbmdzIiwgInByb3BzIjogeyJ2ZXJ0ZXgiOiB7ImNvbG9yIjogNjUyODAsICJid2lkdGgiOiAzfX19Cg==');</script>\n",
       "    "
      ],
      "text/plain": [
       "<IPython.core.display.HTML object>"
      ]
     },
     "metadata": {},
     "output_type": "display_data"
    },
    {
     "data": {
      "text/html": [
       "\n",
       "        <div id=\"khLJgwMHqunCFh72kvppxt\"></div>\n",
       "        <script>netpixi.call('khLJgwMHqunCFh72kvppxt', '6GpnVUYBxxZ6wvC6taSRzJ', 'changeGraph', 'eyJ0eXBlIjogInNldHRpbmdzIiwgInByb3BzIjogeyJlZGdlIjogeyJhbHBoYSI6IDAuMSwgIndpZHRoIjogMX19fQo=');</script>\n",
       "    "
      ],
      "text/plain": [
       "<IPython.core.display.HTML object>"
      ]
     },
     "metadata": {},
     "output_type": "display_data"
    }
   ],
   "source": [
    "r.vertex_default(color=0x00ff00, bwidth=3)#Configura cor e espessura da borda dos vértices\n",
    "r.edge_default(alpha=0.1, width = 1)#Configura trasparência e espessura da borda das arestas"
   ]
  },
  {
   "cell_type": "code",
   "execution_count": 10,
   "id": "5d711df5",
   "metadata": {},
   "outputs": [
    {
     "data": {
      "text/html": [
       "\n",
       "        <div id=\"4wJ7YLrd9RnoC9P6svEFUx\"></div>\n",
       "        <script>netpixi.call('4wJ7YLrd9RnoC9P6svEFUx', '6GpnVUYBxxZ6wvC6taSRzJ', 'changeGraph', 'eyJ0eXBlIjogInNldHRpbmdzIiwgInByb3BzIjogeyJncmFwaCI6IHsia3NjYWxlIjogMjB9fX0K');</script>\n",
       "    "
      ],
      "text/plain": [
       "<IPython.core.display.HTML object>"
      ]
     },
     "metadata": {},
     "output_type": "display_data"
    }
   ],
   "source": [
    "r.graph(kscale=20)#Ajusta escala da chave em relação ao tamanho do vértice"
   ]
  },
  {
   "cell_type": "code",
   "execution_count": null,
   "id": "4074d408",
   "metadata": {},
   "outputs": [],
   "source": []
  }
 ],
 "metadata": {
  "kernelspec": {
   "display_name": "Python 3 (ipykernel)",
   "language": "python",
   "name": "python3"
  },
  "language_info": {
   "codemirror_mode": {
    "name": "ipython",
    "version": 3
   },
   "file_extension": ".py",
   "mimetype": "text/x-python",
   "name": "python",
   "nbconvert_exporter": "python",
   "pygments_lexer": "ipython3",
   "version": "3.10.6"
  }
 },
 "nbformat": 4,
 "nbformat_minor": 5
}
