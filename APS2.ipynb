{
 "cells": [
  {
   "cell_type": "code",
   "execution_count": 1,
   "id": "ab834675",
   "metadata": {},
   "outputs": [
    {
     "data": {
      "text/html": [
       "\n",
       "    <script src=\"/files/netpixi.min.js\"></script>\n"
      ],
      "text/plain": [
       "<IPython.core.display.HTML object>"
      ]
     },
     "metadata": {},
     "output_type": "display_data"
    },
    {
     "name": "stderr",
     "output_type": "stream",
     "text": [
      "/usr/local/lib/python3.10/site-packages/seaborn/rcmod.py:4: DeprecationWarning: The distutils package is deprecated and slated for removal in Python 3.12. Use setuptools or check PEP 632 for potential alternatives\n",
      "  from distutils.version import LooseVersion\n",
      "<frozen importlib._bootstrap>:914: ImportWarning: VendorImporter.find_spec() not found; falling back to find_module()\n",
      "<frozen importlib._bootstrap>:914: ImportWarning: VendorImporter.find_spec() not found; falling back to find_module()\n",
      "<frozen importlib._bootstrap>:914: ImportWarning: VendorImporter.find_spec() not found; falling back to find_module()\n"
     ]
    }
   ],
   "source": [
    "import csv\n",
    "import netpixi\n",
    "from netpixi.integration.gt import Graph\n",
    "import seaborn\n",
    "from netpixi.integration.gt import *\n",
    "from regression.integration.gt import *\n",
    "from graph_tool import centrality\n",
    "from graph_tool import clustering\n",
    "import cpnet\n",
    "from graph_tool import spectral"
   ]
  },
  {
   "cell_type": "raw",
   "id": "0a1b13e8",
   "metadata": {},
   "source": [
    "g = gt_load('../../notebooks/RedeSoc/btc_sfdp.net.gz')\n",
    "g = gt_clean(g)\n",
    "\n",
    "gt_save(g, 'btc_sfdp_2.net.gz')\n"
   ]
  },
  {
   "cell_type": "raw",
   "id": "15bd43ab",
   "metadata": {},
   "source": [
    "g = gt_load('../../notebooks/RedeSoc/btc_sfdp_2.net.gz')\n",
    "bc, _ = centrality.betweenness(g)\n",
    "g.add_vp('betweenness', bc)\n",
    "gt_save(g, 'btc_sfdp_2.net.gz')"
   ]
  },
  {
   "cell_type": "raw",
   "id": "02b7eb83",
   "metadata": {},
   "source": [
    "g = gt_load('../../notebooks/RedeSoc/btc_sfdp_2.net.gz')\n",
    "cc = centrality.closeness(g)\n",
    "g.add_vp('closeness', cc)\n",
    "gt_save(g, 'btc_sfdp_2.net.gz')"
   ]
  },
  {
   "cell_type": "raw",
   "id": "f7175ad5",
   "metadata": {},
   "source": [
    "g = gt_load('../../notebooks/RedeSoc/btc_sfdp_2.net.gz')\n",
    "lc = clustering.local_clustering(g)\n",
    "g.add_vp('clustering', lc)\n",
    "gt_save(g, 'btc_sfdp_2.net.gz')\n"
   ]
  },
  {
   "cell_type": "markdown",
   "id": "732240dc",
   "metadata": {},
   "source": [
    "g = gt_load('../../notebooks/RedeSoc/btc_sfdp_2.net.gz')\n",
    "es = gt_effective_size(g)\n",
    "g.add_vp('effsize', es)\n",
    "gt_save(g, 'btc_sfdp_2.net.gz')"
   ]
  },
  {
   "cell_type": "code",
   "execution_count": 2,
   "id": "eabab15f",
   "metadata": {
    "scrolled": true
   },
   "outputs": [
    {
     "data": {
      "text/html": [
       "\n",
       "        <div id=\"6NcVe95i27yyBM3FC7jT67\"></div>\n",
       "        <script>netpixi.render('6NcVe95i27yyBM3FC7jT67', 'btc_sfdp_2.net.gz', 1.3333333333333333, true, true, false);</script>\n",
       "    "
      ],
      "text/plain": [
       "<IPython.core.display.HTML object>"
      ]
     },
     "metadata": {},
     "output_type": "display_data"
    }
   ],
   "source": [
    "r = netpixi.render('btc_sfdp_2.net.gz', infinite=True,aspect=4/3)"
   ]
  },
  {
   "cell_type": "code",
   "execution_count": 20,
   "id": "ceb69a83",
   "metadata": {},
   "outputs": [
    {
     "data": {
      "text/html": [
       "\n",
       "        <div id=\"jr28HkoB7FmrdtaF6RuJGz\"></div>\n",
       "        <script>netpixi.call('jr28HkoB7FmrdtaF6RuJGz', 'UgtLKessLPYoKZHDwnWq2y', 'setGraph', 'eyJ0eXBlIjogInZlcnRleCIsICJwcm9wcyI6IHsic3JjIjogImlkIiwgImRzdCI6ICJfa2V5In19Cg==');</script>\n",
       "    "
      ],
      "text/plain": [
       "<IPython.core.display.HTML object>"
      ]
     },
     "metadata": {},
     "output_type": "display_data"
    }
   ],
   "source": [
    "r.vertex_set_key('id')# adcionana labels para os vértices"
   ]
  },
  {
   "cell_type": "code",
   "execution_count": 17,
   "id": "e35af93b",
   "metadata": {},
   "outputs": [
    {
     "data": {
      "text/html": [
       "\n",
       "        <div id=\"bNY8yDjBFFrM6MN4ChDz4N\"></div>\n",
       "        <script>netpixi.call('bNY8yDjBFFrM6MN4ChDz4N', 'a2GGwzMfWPV6CY6q49A8Qr', 'normalizeGraph', 'eyJ0eXBlIjogInZlcnRleCIsICJwcm9wcyI6IHsic3JjIjogImRnIiwgIm1pbiI6IDAuMSwgIm1heCI6IDV9fQo=');</script>\n",
       "    "
      ],
      "text/plain": [
       "<IPython.core.display.HTML object>"
      ]
     },
     "metadata": {},
     "output_type": "display_data"
    }
   ],
   "source": [
    "r.vertex_scale('dg', 0.1, 5)#Normalisa o tamanho dos vértices com base no degree"
   ]
  },
  {
   "cell_type": "code",
   "execution_count": 16,
   "id": "a1c89243",
   "metadata": {},
   "outputs": [
    {
     "data": {
      "text/html": [
       "\n",
       "        <div id=\"dnARFDurq5NgXDA2NsjHBm\"></div>\n",
       "        <script>netpixi.call('dnARFDurq5NgXDA2NsjHBm', 'a2GGwzMfWPV6CY6q49A8Qr', 'normalizeGraph', 'eyJ0eXBlIjogInZlcnRleCIsICJwcm9wcyI6IHsic3JjIjogImJldHdlZW5uZXNzIiwgIm1pbiI6IDAuMSwgIm1heCI6IDV9fQo=');</script>\n",
       "    "
      ],
      "text/plain": [
       "<IPython.core.display.HTML object>"
      ]
     },
     "metadata": {},
     "output_type": "display_data"
    }
   ],
   "source": [
    "r.vertex_scale('betweenness', 0.1, 5)#Normalisa o tamanho dos vértices com base no betweenness"
   ]
  },
  {
   "cell_type": "code",
   "execution_count": 10,
   "id": "64c6593c",
   "metadata": {},
   "outputs": [
    {
     "data": {
      "text/html": [
       "\n",
       "        <div id=\"84PD362vy4isY8agXUoQYr\"></div>\n",
       "        <script>netpixi.call('84PD362vy4isY8agXUoQYr', 'FRYBcn737se8LTfLnctGR3', 'normalizeGraph', 'eyJ0eXBlIjogInZlcnRleCIsICJwcm9wcyI6IHsic3JjIjogImNsb3NlbmVzcyIsICJtaW4iOiAwLjEsICJtYXgiOiA1fX0K');</script>\n",
       "    "
      ],
      "text/plain": [
       "<IPython.core.display.HTML object>"
      ]
     },
     "metadata": {},
     "output_type": "display_data"
    }
   ],
   "source": [
    "r.vertex_scale('closeness', 0.1, 5)#Normalisa o tamanho dos vértices com base no closeness"
   ]
  },
  {
   "cell_type": "code",
   "execution_count": 4,
   "id": "6d0b2ed2",
   "metadata": {},
   "outputs": [
    {
     "data": {
      "text/html": [
       "\n",
       "        <div id=\"Ux2rYbMFZdbwBqpAZW5nQ5\"></div>\n",
       "        <script>netpixi.call('Ux2rYbMFZdbwBqpAZW5nQ5', 'BZGUvcncNtRCmNaip9p87n', 'normalizeGraph', 'eyJ0eXBlIjogInZlcnRleCIsICJwcm9wcyI6IHsic3JjIjogImNsdXN0ZXJpbmciLCAibWluIjogMC4xLCAibWF4IjogNX19Cg==');</script>\n",
       "    "
      ],
      "text/plain": [
       "<IPython.core.display.HTML object>"
      ]
     },
     "metadata": {},
     "output_type": "display_data"
    }
   ],
   "source": [
    "r.vertex_scale('clustering', 0.1, 5)#Normalisa o tamanho dos vértices com base no clustering"
   ]
  },
  {
   "cell_type": "code",
   "execution_count": 10,
   "id": "0a3ed47f",
   "metadata": {},
   "outputs": [
    {
     "data": {
      "text/html": [
       "\n",
       "        <div id=\"CEpEgLtSWrZ2UXbqqRM4n4\"></div>\n",
       "        <script>netpixi.call('CEpEgLtSWrZ2UXbqqRM4n4', 'cxDKAeSbET2Dgae68s56ts', 'normalizeGraph', 'eyJ0eXBlIjogInZlcnRleCIsICJwcm9wcyI6IHsic3JjIjogImVmZnNpemUiLCAibWluIjogMC4xLCAibWF4IjogNX19Cg==');</script>\n",
       "    "
      ],
      "text/plain": [
       "<IPython.core.display.HTML object>"
      ]
     },
     "metadata": {},
     "output_type": "display_data"
    }
   ],
   "source": [
    "r.vertex_scale('effsize', 0.1, 5)#Normalisa o tamanho dos vértices com base no effsize"
   ]
  },
  {
   "cell_type": "code",
   "execution_count": 11,
   "id": "23510598",
   "metadata": {
    "scrolled": true
   },
   "outputs": [
    {
     "data": {
      "text/html": [
       "\n",
       "        <div id=\"hSgncywtYEHifDfeVVLB7J\"></div>\n",
       "        <script>netpixi.call('hSgncywtYEHifDfeVVLB7J', 'cxDKAeSbET2Dgae68s56ts', 'changeGraph', 'eyJ0eXBlIjogInNldHRpbmdzIiwgInByb3BzIjogeyJ2ZXJ0ZXgiOiB7ImNvbG9yIjogNjUyODAsICJid2lkdGgiOiAzfX19Cg==');</script>\n",
       "    "
      ],
      "text/plain": [
       "<IPython.core.display.HTML object>"
      ]
     },
     "metadata": {},
     "output_type": "display_data"
    },
    {
     "data": {
      "text/html": [
       "\n",
       "        <div id=\"5bVqbe7HUW5yymNzW9Uwj6\"></div>\n",
       "        <script>netpixi.call('5bVqbe7HUW5yymNzW9Uwj6', 'cxDKAeSbET2Dgae68s56ts', 'changeGraph', 'eyJ0eXBlIjogInNldHRpbmdzIiwgInByb3BzIjogeyJlZGdlIjogeyJhbHBoYSI6IDAuMSwgIndpZHRoIjogMX19fQo=');</script>\n",
       "    "
      ],
      "text/plain": [
       "<IPython.core.display.HTML object>"
      ]
     },
     "metadata": {},
     "output_type": "display_data"
    }
   ],
   "source": [
    "r.vertex_default(color=0x00ff00, bwidth=3)#Configura cor e espessura da borda dos vértices\n",
    "r.edge_default(alpha=0.1, width = 1)#Configura trasparência e espessura da borda das arestas"
   ]
  },
  {
   "cell_type": "code",
   "execution_count": 12,
   "id": "5d711df5",
   "metadata": {},
   "outputs": [
    {
     "data": {
      "text/html": [
       "\n",
       "        <div id=\"92hsKQozaRmxUwaovQD8VJ\"></div>\n",
       "        <script>netpixi.call('92hsKQozaRmxUwaovQD8VJ', 'cxDKAeSbET2Dgae68s56ts', 'changeGraph', 'eyJ0eXBlIjogInNldHRpbmdzIiwgInByb3BzIjogeyJncmFwaCI6IHsia3NjYWxlIjogMjB9fX0K');</script>\n",
       "    "
      ],
      "text/plain": [
       "<IPython.core.display.HTML object>"
      ]
     },
     "metadata": {},
     "output_type": "display_data"
    }
   ],
   "source": [
    "r.graph(kscale=20)#Ajusta escala da chave em relação ao tamanho do vértice"
   ]
  },
  {
   "cell_type": "code",
   "execution_count": null,
   "id": "57c9a9f2",
   "metadata": {},
   "outputs": [
    {
     "name": "stderr",
     "output_type": "stream",
     "text": [
      "<frozen importlib._bootstrap>:914: ImportWarning: VendorImporter.find_spec() not found; falling back to find_module()\n"
     ]
    }
   ],
   "source": [
    "g = gt_load('../../notebooks/RedeSoc/btc_sfdp_2.net.gz')\n",
    "matrix = spectral.adjacency(g)\n",
    "\n",
    "# Além de cpnet.Surprise, há outras\n",
    "# opções de algoritmos discretos:\n",
    "# cpnet.BE\n",
    "# cpnet.Lip\n",
    "# cpnet.LapCore\n",
    "# cpnet.LapSgnCore\n",
    "# cpnet.LowRankCore\n",
    "\n",
    "algorithm = cpnet.Surprise()\n",
    "algorithm.detect(matrix)\n",
    "c = algorithm.get_coreness()\n",
    "\n",
    "# Depois do código acima, c é um dicionário\n",
    "# em que as chaves são índices de vértices e\n",
    "# valores são os atribuídos pelo algoritmo.\n",
    "\n",
    "g.add_vp('core')\n",
    "for i, coreness in c.items():\n",
    "    v = g.get_vertex_by_index(i)\n",
    "    v['core'] = int(coreness)\n",
    "    \n",
    "# Vamos pintar de vermelho todos os vértices\n",
    "# identificados como centro e de verde todos\n",
    "# os vértices identificados como periferia.\n",
    "    \n",
    "for v in g.all_vertices():\n",
    "    if v['core'] == 1:\n",
    "        r.vertex(v['id'], color=0xff0000)\n",
    "    else:\n",
    "        r.vertex(v['id'], color=0x00ff00)\n",
    "\n",
    "# Quando a execução desta célula terminar,\n",
    "# veja como ficou a visualização acima."
   ]
  },
  {
   "cell_type": "code",
   "execution_count": null,
   "id": "8e53107a",
   "metadata": {},
   "outputs": [],
   "source": [
    "matrix = spectral.adjacency(g)\n",
    "\n",
    "# Além de cpnet.Rombach, há outras\n",
    "# opções de algoritmos contínuos:\n",
    "# cpnet.MINRES\n",
    "# cpnet.Rossa\n",
    "\n",
    "algorithm = cpnet.Rombach()\n",
    "algorithm.detect(matrix)\n",
    "c = algorithm.get_coreness()\n",
    "\n",
    "# Depois do código acima, c é um dicionário\n",
    "# em que as chaves são índices de vértices e\n",
    "# valores são os atribuídos pelo algoritmo.\n",
    "\n",
    "g.add_vp('coreness')\n",
    "for i, coreness in c.items():\n",
    "    v = g.get_vertex_by_index(i)\n",
    "    v['coreness'] = float(coreness)\n",
    "\n",
    "# Vamos usar coreness como referência para\n",
    "# o tamanho dos vértices. Estabelecemos 10\n",
    "# como o menor tamanho possível e 40 como\n",
    "# o maior tamanho possível. Como o coreness\n",
    "# está entre 0 e 1, a conta é bem simples.\n",
    "\n",
    "for v in g.all_vertices():\n",
    "    r.vertex(v['id'], size=(10 + 40 * v['coreness']))\n",
    "\n",
    "# Quando a execução desta célula terminar,\n",
    "# veja como ficou a visualização acima."
   ]
  }
 ],
 "metadata": {
  "kernelspec": {
   "display_name": "Python 3 (ipykernel)",
   "language": "python",
   "name": "python3"
  },
  "language_info": {
   "codemirror_mode": {
    "name": "ipython",
    "version": 3
   },
   "file_extension": ".py",
   "mimetype": "text/x-python",
   "name": "python",
   "nbconvert_exporter": "python",
   "pygments_lexer": "ipython3",
   "version": "3.10.6"
  }
 },
 "nbformat": 4,
 "nbformat_minor": 5
}
