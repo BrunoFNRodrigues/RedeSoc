{
 "cells": [
  {
   "cell_type": "code",
   "execution_count": null,
   "id": "94071711",
   "metadata": {},
   "outputs": [],
   "source": [
    "import csv\n",
    "import netpixi\n",
    "from netpixi.integration.gt import Graph\n",
    "import seaborn\n",
    "from netpixi.integration.gt import *\n",
    "from regression.integration.gt import *"
   ]
  },
  {
   "cell_type": "markdown",
   "id": "a59f6f8e",
   "metadata": {},
   "source": [
    "## Criando o grafo"
   ]
  },
  {
   "cell_type": "code",
   "execution_count": null,
   "id": "c3710b2d",
   "metadata": {},
   "outputs": [],
   "source": [
    "g = Graph(directed=False) \n",
    "g.add_ep('hours_played')\n",
    "g.add_vp('bipartite')\n",
    "g.add_vp('total_hours_played')"
   ]
  },
  {
   "cell_type": "code",
   "execution_count": null,
   "id": "8f1058b9",
   "metadata": {},
   "outputs": [],
   "source": [
    "user_list = []\n",
    "game_list = []\n",
    "edge_list = []\n",
    "\n",
    "LIMIT = 30000\n",
    "i = 0\n",
    "with open(\"../datasets/steam-200k.csv\", 'r', encoding='utf-8') as file:\n",
    "    csv_file = csv.reader(file)\n",
    "    for line in csv_file:\n",
    "        if line[2] == 'play':\n",
    "            user = line[0]\n",
    "            game = line[1]\n",
    "            if user not in user_list:\n",
    "                user_list.append(user)\n",
    "                g.add_vertex(user)\n",
    "                g.get_vertex(user)['total_hours_played'] = 0\n",
    "                g.get_vertex(user)[\"bipartite\"] = 0\n",
    "            if game not in game_list:\n",
    "                game_list.append(game)\n",
    "                g.add_vertex(game)\n",
    "                g.get_vertex(game)[\"bipartite\"] = 1\n",
    "            if user+game not in edge_list:\n",
    "                g.add_edge(user, game)\n",
    "                g.get_edge(user, game)['hours_played'] = float(line[3])\n",
    "                g.get_vertex(user)['total_hours_played'] += float(line[3])\n",
    "                edge_list.append(user+game)\n",
    "        i += 1\n",
    "        if i == LIMIT:\n",
    "            break"
   ]
  },
  {
   "cell_type": "markdown",
   "id": "f05ef144",
   "metadata": {},
   "source": [
    "0 são usuários e 1 são jogos"
   ]
  },
  {
   "cell_type": "markdown",
   "id": "ba9140f9",
   "metadata": {},
   "source": [
    "## N de arestas e vértices"
   ]
  },
  {
   "cell_type": "code",
   "execution_count": null,
   "id": "cf403d9f",
   "metadata": {},
   "outputs": [],
   "source": [
    "print('número de vértices de g:', g.num_vertices())"
   ]
  },
  {
   "cell_type": "code",
   "execution_count": null,
   "id": "e462395e",
   "metadata": {},
   "outputs": [],
   "source": [
    "print('número de arestas de g:', g.num_edges())"
   ]
  },
  {
   "cell_type": "code",
   "execution_count": null,
   "id": "611a5020",
   "metadata": {},
   "outputs": [],
   "source": []
  },
  {
   "cell_type": "markdown",
   "id": "2c6f5ebc",
   "metadata": {},
   "source": [
    "## Salvando e visualizando"
   ]
  },
  {
   "cell_type": "code",
   "execution_count": null,
   "id": "75450d23",
   "metadata": {},
   "outputs": [],
   "source": [
    "gt_save(g, 'grafos/user_games.net.gz')"
   ]
  },
  {
   "cell_type": "code",
   "execution_count": null,
   "id": "abac5995",
   "metadata": {},
   "outputs": [],
   "source": [
    "g = gt_load('grafos/user_games.net.gz')"
   ]
  },
  {
   "cell_type": "code",
   "execution_count": null,
   "id": "9fdb7982",
   "metadata": {},
   "outputs": [],
   "source": [
    "g.add_vp('color')\n",
    "g.add_vp('size')\n",
    "top = []\n",
    "for v in g.all_vertices():\n",
    "    v['size'] = 5\n",
    "    if v['bipartite'] == 0:\n",
    "        # VERMELHO = USUÁRIOS\n",
    "        v['color'] = 0xff0000\n",
    "        top.append(v)\n",
    "    else:\n",
    "        # VERDE = JOGOS\n",
    "        v['color'] = 0x00ff00\n",
    "\n",
    "        \n",
    "m = gt_draw.bipartite_layout(g, top)\n",
    "gt_move(g, m)\n",
    "\n",
    "gt_save(g, 'grafos/user_games_2node.net.gz')"
   ]
  },
  {
   "cell_type": "code",
   "execution_count": null,
   "id": "d18744a3",
   "metadata": {
    "scrolled": false
   },
   "outputs": [],
   "source": [
    "r = netpixi.render('grafos/user_games_2node.net.gz')"
   ]
  },
  {
   "cell_type": "code",
   "execution_count": null,
   "id": "401ea02a",
   "metadata": {},
   "outputs": [],
   "source": [
    "#r.vertex_set_key('id')# adcionana labels para os vértices"
   ]
  },
  {
   "cell_type": "code",
   "execution_count": null,
   "id": "65b64ebf",
   "metadata": {},
   "outputs": [],
   "source": [
    "r.edge_default(alpha=0.01, width = 0.5)#Configura trasparência e espessura da borda das arestas"
   ]
  },
  {
   "cell_type": "markdown",
   "id": "64290368",
   "metadata": {},
   "source": [
    "## Transformando a rede em 1 node"
   ]
  },
  {
   "cell_type": "code",
   "execution_count": null,
   "id": "8ebddc98",
   "metadata": {},
   "outputs": [],
   "source": [
    "import csv\n",
    "import netpixi\n",
    "from netpixi.integration.gt import Graph\n",
    "import seaborn\n",
    "from netpixi.integration.gt import *\n",
    "from regression.integration.gt import *\n",
    "g = gt_load('grafos/user_games_2node.net.gz')"
   ]
  },
  {
   "cell_type": "code",
   "execution_count": null,
   "id": "69a38d14",
   "metadata": {},
   "outputs": [],
   "source": [
    "n = 0\n",
    "for v in g.all_vertices():\n",
    "    if v[\"bipartite\"] == 0:\n",
    "        n += 1\n",
    "n"
   ]
  },
  {
   "cell_type": "code",
   "execution_count": null,
   "id": "18bb49da",
   "metadata": {},
   "outputs": [],
   "source": [
    "g2 = Graph(directed=False) \n",
    "g2.add_ep('games_shared')\n",
    "g2.add_vp('total_hours_played')"
   ]
  },
  {
   "cell_type": "code",
   "execution_count": null,
   "id": "c0aa486b",
   "metadata": {},
   "outputs": [],
   "source": [
    "import itertools\n",
    "\n",
    "THRESHOLD = 0.3\n",
    "for u in g.all_vertices():\n",
    "    if u['bipartite'] == 1:\n",
    "        #Para cada jogo\n",
    "        curr_vertex_in_edges = []\n",
    "        \n",
    "        for e in u.iter_all_edges():\n",
    "            user_vert = e.get_target().get_id()\n",
    "            hours = e.get_target()['total_hours_played']\n",
    "            relative_hours = e['hours_played'] / hours\n",
    "            curr_vertex_in_edges.append((user_vert, relative_hours))\n",
    "            \n",
    "            try:\n",
    "                g2.add_vertex(user_vert)\n",
    "                g2.get_vertex(user_vert)[\"total_hours_played\"] = hours\n",
    "            except:\n",
    "                pass\n",
    "                \n",
    "        users_edges = set(itertools.combinations(curr_vertex_in_edges,2))\n",
    "     \n",
    "        for edge in users_edges:\n",
    "            if edge[0][1] >= THRESHOLD and edge[1][1] >= THRESHOLD:       \n",
    "                try:\n",
    "                    g2.add_edge(edge[0][0], edge[1][0])\n",
    "                    g2.get_edge(edge[0][0], edge[1][0])['games_shared'] = 1\n",
    "                except:\n",
    "                    g2.get_edge(edge[0][0], edge[1][0])['games_shared'] += 1\n",
    "                \n",
    "                "
   ]
  },
  {
   "cell_type": "code",
   "execution_count": null,
   "id": "5c65a54c",
   "metadata": {},
   "outputs": [],
   "source": [
    "print('número de vértices de g:', g2.num_vertices())"
   ]
  },
  {
   "cell_type": "code",
   "execution_count": null,
   "id": "71a21d44",
   "metadata": {},
   "outputs": [],
   "source": [
    "print('número de arestas de g:', g2.num_edges())"
   ]
  },
  {
   "cell_type": "code",
   "execution_count": null,
   "id": "8c4ee400",
   "metadata": {},
   "outputs": [],
   "source": [
    "g2.add_vp('size')\n",
    "for v in g2.all_vertices():\n",
    "    v['size'] = 1\n",
    "    \n",
    "    \n",
    "g2.add_ep('color')\n",
    "g2.add_ep('width')\n",
    "for e in g2.all_edges():\n",
    "    e['width'] = 3\n",
    "    if e['games_shared'] == 1:        \n",
    "        e['color'] = 0xffffff\n",
    "    elif e['games_shared'] == 2:\n",
    "        e['color'] = 0x00ff00\n",
    "    else:\n",
    "        e['color'] = 0xff0000"
   ]
  },
  {
   "cell_type": "code",
   "execution_count": null,
   "id": "6ad3dc23",
   "metadata": {},
   "outputs": [],
   "source": [
    "m = gt_draw.sfdp_layout(g2)\n",
    "gt_move(g2, m)\n",
    "g2 = gt_clean(g2)\n",
    "gt_save(g2, 'grafos/users_network.net.gz')"
   ]
  },
  {
   "cell_type": "code",
   "execution_count": null,
   "id": "d97e40ca",
   "metadata": {},
   "outputs": [],
   "source": []
  },
  {
   "cell_type": "code",
   "execution_count": null,
   "id": "cdedd6f2",
   "metadata": {},
   "outputs": [],
   "source": [
    "r2 = netpixi.render('grafos/users_network.net.gz', infinite=True)"
   ]
  },
  {
   "cell_type": "code",
   "execution_count": null,
   "id": "670736dd",
   "metadata": {},
   "outputs": [],
   "source": [
    "r2.edge_default(alpha=0.2, width = 1)#Configura trasparência e espessura da borda das arestas"
   ]
  },
  {
   "cell_type": "code",
   "execution_count": null,
   "id": "87e76566",
   "metadata": {},
   "outputs": [],
   "source": [
    "r2.edge_scale(\"games_shared\", 0.1, 10)"
   ]
  },
  {
   "cell_type": "code",
   "execution_count": null,
   "id": "934911d6",
   "metadata": {},
   "outputs": [],
   "source": [
    "r2.vertex_scale(\"total_hours_played\", 1, 10)"
   ]
  },
  {
   "cell_type": "code",
   "execution_count": null,
   "id": "01708b7e",
   "metadata": {},
   "outputs": [],
   "source": []
  }
 ],
 "metadata": {
  "kernelspec": {
   "display_name": "Python 3 (ipykernel)",
   "language": "python",
   "name": "python3"
  },
  "language_info": {
   "codemirror_mode": {
    "name": "ipython",
    "version": 3
   },
   "file_extension": ".py",
   "mimetype": "text/x-python",
   "name": "python",
   "nbconvert_exporter": "python",
   "pygments_lexer": "ipython3",
   "version": "3.10.6"
  }
 },
 "nbformat": 4,
 "nbformat_minor": 5
}
