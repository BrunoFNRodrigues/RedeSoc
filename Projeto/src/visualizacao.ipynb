{
 "cells": [
  {
   "cell_type": "code",
   "execution_count": null,
   "id": "94071711",
   "metadata": {},
   "outputs": [],
   "source": [
    "import csv\n",
    "import netpixi\n",
    "from netpixi.integration.gt import Graph\n",
    "import seaborn\n",
    "from netpixi.integration.gt import *\n",
    "from regression.integration.gt import *"
   ]
  },
  {
   "cell_type": "markdown",
   "id": "a59f6f8e",
   "metadata": {},
   "source": [
    "## Criando o grafo"
   ]
  },
  {
   "cell_type": "code",
   "execution_count": null,
   "id": "c3710b2d",
   "metadata": {},
   "outputs": [],
   "source": [
    "g = Graph(directed=False) \n",
    "g.add_ep('hours_played')\n",
    "g.add_vp('bipartite')\n",
    "g.add_vp('total_hours_played')"
   ]
  },
  {
   "cell_type": "code",
   "execution_count": null,
   "id": "8f1058b9",
   "metadata": {},
   "outputs": [],
   "source": [
    "user_list = []\n",
    "game_list = []\n",
    "edge_list = []\n",
    "\n",
    "LIMIT = 5000\n",
    "i = 0\n",
    "with open(\"../datasets/steam-200k.csv\", 'r', encoding='utf-8') as file:\n",
    "    csv_file = csv.reader(file)\n",
    "    for line in csv_file:\n",
    "        if line[2] == 'play':\n",
    "            user = line[0]\n",
    "            game = line[1]\n",
    "            if user not in user_list:\n",
    "                user_list.append(user)\n",
    "                g.add_vertex(user)\n",
    "                g.get_vertex(user)['total_hours_played'] = 0\n",
    "                g.get_vertex(user)[\"bipartite\"] = 0\n",
    "            if game not in game_list:\n",
    "                game_list.append(game)\n",
    "                g.add_vertex(game)\n",
    "                g.get_vertex(game)[\"bipartite\"] = 1\n",
    "            if user+game not in edge_list:\n",
    "                g.add_edge(user, game)\n",
    "                g.get_edge(user, game)['hours_played'] = float(line[3])\n",
    "                g.get_vertex(user)['total_hours_played'] += float(line[3])\n",
    "                edge_list.append(user+game)\n",
    "        i += 1\n",
    "        if i == LIMIT:\n",
    "            break"
   ]
  },
  {
   "cell_type": "markdown",
   "id": "f05ef144",
   "metadata": {},
   "source": [
    "0 são usuários e 1 são jogos"
   ]
  },
  {
   "cell_type": "markdown",
   "id": "ba9140f9",
   "metadata": {},
   "source": [
    "## N de arestas e vértices"
   ]
  },
  {
   "cell_type": "code",
   "execution_count": null,
   "id": "cf403d9f",
   "metadata": {},
   "outputs": [],
   "source": [
    "print('número de vértices de g:', g.num_vertices())"
   ]
  },
  {
   "cell_type": "code",
   "execution_count": null,
   "id": "e462395e",
   "metadata": {},
   "outputs": [],
   "source": [
    "print('número de arestas de g:', g.num_edges())"
   ]
  },
  {
   "cell_type": "code",
   "execution_count": null,
   "id": "611a5020",
   "metadata": {},
   "outputs": [],
   "source": []
  },
  {
   "cell_type": "markdown",
   "id": "2c6f5ebc",
   "metadata": {},
   "source": [
    "## Salvando e visualizando"
   ]
  },
  {
   "cell_type": "code",
   "execution_count": null,
   "id": "75450d23",
   "metadata": {},
   "outputs": [],
   "source": [
    "gt_save(g, 'grafos/user_games.net.gz')"
   ]
  },
  {
   "cell_type": "code",
   "execution_count": null,
   "id": "abac5995",
   "metadata": {},
   "outputs": [],
   "source": [
    "g = gt_load('grafos/user_games.net.gz')"
   ]
  },
  {
   "cell_type": "code",
   "execution_count": null,
   "id": "9fdb7982",
   "metadata": {},
   "outputs": [],
   "source": [
    "g.add_vp('color')\n",
    "g.add_vp('size')\n",
    "top = []\n",
    "for v in g.all_vertices():\n",
    "    v['size'] = 5\n",
    "    if v['bipartite'] == 0:\n",
    "        # VERMELHO = USUÁRIOS\n",
    "        v['color'] = 0xff0000\n",
    "        top.append(v)\n",
    "    else:\n",
    "        # VERDE = JOGOS\n",
    "        v['color'] = 0x00ff00\n",
    "\n",
    "        \n",
    "m = gt_draw.bipartite_layout(g, top)\n",
    "gt_move(g, m)\n",
    "\n",
    "gt_save(g, 'grafos/user_games_2node.net.gz')"
   ]
  },
  {
   "cell_type": "code",
   "execution_count": null,
   "id": "d18744a3",
   "metadata": {
    "scrolled": false
   },
   "outputs": [],
   "source": [
    "r = netpixi.render('grafos/user_games_2node.net.gz')"
   ]
  },
  {
   "cell_type": "code",
   "execution_count": null,
   "id": "401ea02a",
   "metadata": {},
   "outputs": [],
   "source": [
    "#r.vertex_set_key('id')# adcionana labels para os vértices"
   ]
  },
  {
   "cell_type": "code",
   "execution_count": null,
   "id": "65b64ebf",
   "metadata": {},
   "outputs": [],
   "source": [
    "r.edge_default(alpha=0.01, width = 0.5)#Configura trasparência e espessura da borda das arestas"
   ]
  },
  {
   "cell_type": "markdown",
   "id": "64290368",
   "metadata": {},
   "source": [
    "## Transformando a rede em 1 node"
   ]
  },
  {
   "cell_type": "code",
   "execution_count": 1,
   "id": "8ebddc98",
   "metadata": {},
   "outputs": [
    {
     "data": {
      "text/html": [
       "\n",
       "    <script src=\"/files/netpixi.min.js\"></script>\n"
      ],
      "text/plain": [
       "<IPython.core.display.HTML object>"
      ]
     },
     "metadata": {},
     "output_type": "display_data"
    },
    {
     "name": "stderr",
     "output_type": "stream",
     "text": [
      "/usr/local/lib/python3.10/site-packages/seaborn/rcmod.py:4: DeprecationWarning: The distutils package is deprecated and slated for removal in Python 3.12. Use setuptools or check PEP 632 for potential alternatives\n",
      "  from distutils.version import LooseVersion\n",
      "<frozen importlib._bootstrap>:914: ImportWarning: VendorImporter.find_spec() not found; falling back to find_module()\n",
      "<frozen importlib._bootstrap>:914: ImportWarning: VendorImporter.find_spec() not found; falling back to find_module()\n",
      "/usr/local/lib/python3.10/site-packages/seaborn/cm.py:1582: PendingDeprecationWarning: The register_cmap function will be deprecated in a future version. Use ``matplotlib.colormaps.register(name)`` instead.\n",
      "  mpl_cm.register_cmap(_name, _cmap)\n",
      "/usr/local/lib/python3.10/site-packages/seaborn/cm.py:1583: PendingDeprecationWarning: The register_cmap function will be deprecated in a future version. Use ``matplotlib.colormaps.register(name)`` instead.\n",
      "  mpl_cm.register_cmap(_name + \"_r\", _cmap_r)\n",
      "<frozen importlib._bootstrap>:914: ImportWarning: VendorImporter.find_spec() not found; falling back to find_module()\n"
     ]
    }
   ],
   "source": [
    "import csv\n",
    "import netpixi\n",
    "from netpixi.integration.gt import Graph\n",
    "import seaborn\n",
    "from netpixi.integration.gt import *\n",
    "from regression.integration.gt import *\n",
    "g = gt_load('grafos/user_games_2node.net.gz')"
   ]
  },
  {
   "cell_type": "code",
   "execution_count": 2,
   "id": "69a38d14",
   "metadata": {},
   "outputs": [
    {
     "data": {
      "text/plain": [
       "251"
      ]
     },
     "execution_count": 2,
     "metadata": {},
     "output_type": "execute_result"
    }
   ],
   "source": [
    "n = 0\n",
    "for v in g.all_vertices():\n",
    "    if v[\"bipartite\"] == 0:\n",
    "        n += 1\n",
    "n"
   ]
  },
  {
   "cell_type": "code",
   "execution_count": 3,
   "id": "18bb49da",
   "metadata": {},
   "outputs": [],
   "source": [
    "g2 = Graph(directed=False) \n",
    "g2.add_ep('games_shared')\n",
    "g2.add_vp('total_hours_played')"
   ]
  },
  {
   "cell_type": "code",
   "execution_count": 4,
   "id": "c0aa486b",
   "metadata": {},
   "outputs": [],
   "source": [
    "import itertools\n",
    "existing_edges = []\n",
    "vertexes = []\n",
    "\n",
    "for u in g.all_vertices():\n",
    "    if u['bipartite'] == 1:\n",
    "        curr_vertex_in_edges = []\n",
    "        \n",
    "        for e in u.iter_all_edges():\n",
    "            user_vert = e.get_target().get_id()\n",
    "            hours = e.get_target()['total_hours_played']\n",
    "            curr_vertex_in_edges.append(user_vert)\n",
    "            \n",
    "            if user_vert not in vertexes:\n",
    "                vertexes.append(user_vert)\n",
    "                g2.add_vertex(user_vert)\n",
    "                g2.get_vertex(user_vert)[\"total_hours_played\"]  = hours\n",
    "                \n",
    "        users_edges = set(itertools.combinations(curr_vertex_in_edges,2))\n",
    "     \n",
    "        for edge in users_edges:\n",
    "            if (edge[0], edge[1]) not in existing_edges:\n",
    "                existing_edges.append((edge[0], edge[1]))\n",
    "                existing_edges.append((edge[1], edge[0]))\n",
    "                g2.add_edge(edge[0], edge[1])\n",
    "                g2.get_edge(edge[0], edge[1])['games_shared'] = 1\n",
    "            else:\n",
    "                g2.get_edge(edge[0], edge[1])['games_shared'] += 1\n",
    "                \n",
    "                "
   ]
  },
  {
   "cell_type": "code",
   "execution_count": 5,
   "id": "5c65a54c",
   "metadata": {},
   "outputs": [
    {
     "name": "stdout",
     "output_type": "stream",
     "text": [
      "número de vértices de g: 251\n"
     ]
    }
   ],
   "source": [
    "print('número de vértices de g:', g2.num_vertices())"
   ]
  },
  {
   "cell_type": "code",
   "execution_count": 6,
   "id": "71a21d44",
   "metadata": {},
   "outputs": [
    {
     "name": "stdout",
     "output_type": "stream",
     "text": [
      "número de arestas de g: 8605\n"
     ]
    }
   ],
   "source": [
    "print('número de arestas de g:', g2.num_edges())"
   ]
  },
  {
   "cell_type": "code",
   "execution_count": 7,
   "id": "8c4ee400",
   "metadata": {},
   "outputs": [],
   "source": [
    "g2.add_vp('size')\n",
    "for v in g2.all_vertices():\n",
    "    v['size'] = 1\n",
    "    \n",
    "    \n",
    "g2.add_ep('color')\n",
    "g2.add_ep('width')\n",
    "for e in g2.all_edges():\n",
    "    e['width'] = 3\n",
    "    if e['games_shared'] < 5:        \n",
    "        e['color'] = 0xffffff\n",
    "    elif e['games_shared'] >= 5 and e['games_shared'] < 10:\n",
    "        e['color'] = 0x00ff00\n",
    "    else:\n",
    "        e['color'] = 0xff0000"
   ]
  },
  {
   "cell_type": "code",
   "execution_count": 8,
   "id": "6ad3dc23",
   "metadata": {},
   "outputs": [],
   "source": [
    "m = gt_draw.sfdp_layout(g2)\n",
    "gt_move(g2, m)\n",
    "gt_save(g2, 'grafos/users_network.net.gz')"
   ]
  },
  {
   "cell_type": "code",
   "execution_count": 16,
   "id": "cdedd6f2",
   "metadata": {},
   "outputs": [
    {
     "data": {
      "text/html": [
       "\n",
       "        <div id=\"MAfMTyqqAGe3EAPrUHGBQq\"></div>\n",
       "        <script>netpixi.render('MAfMTyqqAGe3EAPrUHGBQq', 'grafos/users_network.net.gz', 1.7777777777777777, true, false, false);</script>\n",
       "    "
      ],
      "text/plain": [
       "<IPython.core.display.HTML object>"
      ]
     },
     "metadata": {},
     "output_type": "display_data"
    }
   ],
   "source": [
    "r2 = netpixi.render('grafos/users_network.net.gz')"
   ]
  },
  {
   "cell_type": "code",
   "execution_count": 17,
   "id": "670736dd",
   "metadata": {},
   "outputs": [
    {
     "data": {
      "text/html": [
       "\n",
       "        <div id=\"KsC6b2D383aKaCiVvCLQc5\"></div>\n",
       "        <script>netpixi.call('KsC6b2D383aKaCiVvCLQc5', 'MAfMTyqqAGe3EAPrUHGBQq', 'changeGraph', 'eyJ0eXBlIjogInNldHRpbmdzIiwgInByb3BzIjogeyJlZGdlIjogeyJhbHBoYSI6IDAuMSwgIndpZHRoIjogMX19fQo=');</script>\n",
       "    "
      ],
      "text/plain": [
       "<IPython.core.display.HTML object>"
      ]
     },
     "metadata": {},
     "output_type": "display_data"
    }
   ],
   "source": [
    "r2.edge_default(alpha=0.1, width = 1)#Configura trasparência e espessura da borda das arestas"
   ]
  },
  {
   "cell_type": "code",
   "execution_count": 18,
   "id": "87e76566",
   "metadata": {},
   "outputs": [
    {
     "data": {
      "text/html": [
       "\n",
       "        <div id=\"gydat5w6H49YHDFES9HCgH\"></div>\n",
       "        <script>netpixi.call('gydat5w6H49YHDFES9HCgH', 'MAfMTyqqAGe3EAPrUHGBQq', 'normalizeGraph', 'eyJ0eXBlIjogImVkZ2UiLCAicHJvcHMiOiB7InNyYyI6ICJnYW1lc19zaGFyZWQiLCAibWluIjogMC4xLCAibWF4IjogMTB9fQo=');</script>\n",
       "    "
      ],
      "text/plain": [
       "<IPython.core.display.HTML object>"
      ]
     },
     "metadata": {},
     "output_type": "display_data"
    }
   ],
   "source": [
    "r2.edge_scale(\"games_shared\", 0.1, 10)"
   ]
  },
  {
   "cell_type": "code",
   "execution_count": 19,
   "id": "934911d6",
   "metadata": {},
   "outputs": [
    {
     "data": {
      "text/html": [
       "\n",
       "        <div id=\"fqVWWKDfr44RymzoJjXb4J\"></div>\n",
       "        <script>netpixi.call('fqVWWKDfr44RymzoJjXb4J', 'MAfMTyqqAGe3EAPrUHGBQq', 'normalizeGraph', 'eyJ0eXBlIjogInZlcnRleCIsICJwcm9wcyI6IHsic3JjIjogInRvdGFsX2hvdXJzX3BsYXllZCIsICJtaW4iOiAxLCAibWF4IjogNX19Cg==');</script>\n",
       "    "
      ],
      "text/plain": [
       "<IPython.core.display.HTML object>"
      ]
     },
     "metadata": {},
     "output_type": "display_data"
    }
   ],
   "source": [
    "r2.vertex_scale(\"total_hours_played\", 1, 5)"
   ]
  },
  {
   "cell_type": "code",
   "execution_count": null,
   "id": "64df7e3f",
   "metadata": {},
   "outputs": [],
   "source": []
  }
 ],
 "metadata": {
  "kernelspec": {
   "display_name": "Python 3 (ipykernel)",
   "language": "python",
   "name": "python3"
  },
  "language_info": {
   "codemirror_mode": {
    "name": "ipython",
    "version": 3
   },
   "file_extension": ".py",
   "mimetype": "text/x-python",
   "name": "python",
   "nbconvert_exporter": "python",
   "pygments_lexer": "ipython3",
   "version": "3.10.6"
  }
 },
 "nbformat": 4,
 "nbformat_minor": 5
}
